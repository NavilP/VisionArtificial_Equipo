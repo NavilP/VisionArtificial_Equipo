{
 "cells": [
  {
   "cell_type": "code",
   "execution_count": 2,
   "metadata": {},
   "outputs": [],
   "source": [
    "import numpy as np\n",
    "import matplotlib.pyplot as plt\n",
    "\n",
    "cadena = np.array([0, 0, 0, 1, 1, 3, 0, 3, 2, 1, 0])"
   ]
  },
  {
   "cell_type": "code",
   "execution_count": 3,
   "metadata": {},
   "outputs": [
    {
     "name": "stdout",
     "output_type": "stream",
     "text": [
      "0\n",
      "[0 0 0 1 1 3 0 3 2 1 0]\n"
     ]
    }
   ],
   "source": [
    "def minimum_magnitude(cadena):\n",
    "    dim = cadena.shape[0]\n",
    "    nuevaCadena = np.zeros_like(cadena)\n",
    "    for i in range(dim):\n",
    "        if cadena[i] == 0:\n",
    "            if cadena[i + 1] == 0:\n",
    "                if cadena[i + 2] == 0 or cadena[i + 2] == 1:\n",
    "                    print(i)\n",
    "                    nuevaCadena[0 : dim - i] = cadena[i:]\n",
    "                    nuevaCadena[dim - i :] = cadena[0:i]\n",
    "                    break\n",
    "    return nuevaCadena\n",
    "\n",
    "\n",
    "nuevaCadena = minimum_magnitude(cadena)\n",
    "print(nuevaCadena)"
   ]
  },
  {
   "cell_type": "code",
   "execution_count": 9,
   "metadata": {},
   "outputs": [
    {
     "name": "stdout",
     "output_type": "stream",
     "text": [
      "[0 0 0 1 1 3 0 3 2 1 0]\n",
      "[0 0 1 0 2 1 3 3 3 3 0]\n"
     ]
    }
   ],
   "source": [
    "def first_difference(cadena, c):\n",
    "    distance = np.zeros_like(cadena)\n",
    "    if c == 4:\n",
    "        # Distancia segun los numeros\n",
    "        zero_dis =  [0,3,2,1]\n",
    "        one_dis =   [1,0,3,2]\n",
    "        two_dis =   [2,1,0,3]\n",
    "        three_dis = [3,2,1,0]\n",
    "\n",
    "        for i in range(cadena.shape[0]):\n",
    "            if(i<cadena.shape[0]-1):\n",
    "                if cadena[i+1] == 0:\n",
    "                    distance[i] = zero_dis[cadena[i]]\n",
    "                if cadena[i+1] == 1:\n",
    "                    distance[i] = one_dis[cadena[i]]\n",
    "                if cadena[i+1] == 2:\n",
    "                    distance[i] = two_dis[cadena[i]]\n",
    "                if cadena[i+1] == 3:\n",
    "                    distance[i] = three_dis[cadena[i]]\n",
    "            else:\n",
    "                if cadena[0] == 0:\n",
    "                    distance[i] = zero_dis[cadena[i]]\n",
    "                if cadena[0] == 1:\n",
    "                    distance[i] = one_dis[cadena[i]]\n",
    "                if cadena[0] == 2:\n",
    "                    distance[i] = two_dis[cadena[i]]\n",
    "                if cadena[0] == 3:\n",
    "                    distance[i] = three_dis[cadena[i]]\n",
    "    if c == 8:\n",
    "            # Distancia segun los numeros\n",
    "            zero_dis =  [0,7,6,5,4,3,2,1]\n",
    "            one_dis =   [1,0,7,6,5,4,3,2]\n",
    "            two_dis =   [2,1,0,7,6,5,4,3]\n",
    "            three_dis = [3,2,1,0,7,6,5,4]\n",
    "            four_dis =  [4,3,2,1,0,7,6,5]\n",
    "            five_dis =  [5,4,3,2,1,0,7,6]\n",
    "            six_dis =   [6,5,4,3,2,1,0,7]\n",
    "            seven_dis = [7,6,5,4,3,2,1,0]\n",
    "\n",
    "            for i in range(cadena.shape[0]):\n",
    "                if(i<cadena.shape[0]-1):\n",
    "                    if cadena[i+1] == 0:\n",
    "                        distance[i] = zero_dis[cadena[i]]\n",
    "                    if cadena[i+1] == 1:\n",
    "                        distance[i] = one_dis[cadena[i]]\n",
    "                    if cadena[i+1] == 2:\n",
    "                        distance[i] = two_dis[cadena[i]]\n",
    "                    if cadena[i+1] == 3:\n",
    "                        distance[i] = three_dis[cadena[i]]\n",
    "                    if cadena[i+1] == 4:\n",
    "                        distance[i] = four_dis[cadena[i]]\n",
    "                    if cadena[i+1] == 5:\n",
    "                        distance[i] = five_dis[cadena[i]]\n",
    "                    if cadena[i+1] == 6:\n",
    "                        distance[i] = six_dis[cadena[i]]\n",
    "                    if cadena[i+1] == 7:\n",
    "                        distance[i] = seven_dis[cadena[i]]\n",
    "                else:\n",
    "                    if cadena[0] == 0:\n",
    "                        distance[i] = zero_dis[cadena[i]]\n",
    "                    if cadena[0] == 1:\n",
    "                        distance[i] = one_dis[cadena[i]]\n",
    "                    if cadena[0] == 2:\n",
    "                        distance[i] = two_dis[cadena[i]]\n",
    "                    if cadena[0] == 3:\n",
    "                        distance[i] = three_dis[cadena[i]]\n",
    "                    if cadena[i] == 4:\n",
    "                        distance[i] = four_dis[cadena[i]]\n",
    "                    if cadena[i] == 5:\n",
    "                        distance[i] = five_dis[cadena[i]]\n",
    "                    if cadena[i] == 6:\n",
    "                        distance[i] = six_dis[cadena[i]]\n",
    "                    if cadena[i] == 7:\n",
    "                        distance[i] = seven_dis[cadena[i]]\n",
    "    return distance\n",
    "print(cadena)\n",
    "dis = first_difference(cadena, 4)\n",
    "print(dis)\n"
   ]
  }
 ],
 "metadata": {
  "kernelspec": {
   "display_name": "Python 3",
   "language": "python",
   "name": "python3"
  },
  "language_info": {
   "codemirror_mode": {
    "name": "ipython",
    "version": 3
   },
   "file_extension": ".py",
   "mimetype": "text/x-python",
   "name": "python",
   "nbconvert_exporter": "python",
   "pygments_lexer": "ipython3",
   "version": "3.11.2"
  }
 },
 "nbformat": 4,
 "nbformat_minor": 2
}
