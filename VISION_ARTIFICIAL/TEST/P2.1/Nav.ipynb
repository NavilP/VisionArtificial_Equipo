{
 "cells": [
  {
   "cell_type": "code",
   "execution_count": null,
   "metadata": {},
   "outputs": [],
   "source": [
    "import numpy as np\n",
    "import matplotlib.pyplot as plt\n",
    "# Segmentacion por crecimiento de region\n",
    "\n",
    "# Punto semilla\n",
    "\n",
    "# Inicializar intensidad de referencia\n",
    "\n",
    "# Encontrar vecinos\n",
    "\n",
    "# Actualizar valor de referencia\n",
    "\n",
    "def seg_region(image):\n",
    "    newImage = np.copy(image)\n",
    "    \n",
    "    return newImage"
   ]
  }
 ],
 "metadata": {
  "language_info": {
   "name": "python"
  }
 },
 "nbformat": 4,
 "nbformat_minor": 2
}
