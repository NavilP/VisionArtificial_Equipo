{
 "cells": [
  {
   "cell_type": "code",
   "execution_count": 55,
   "metadata": {},
   "outputs": [],
   "source": [
    "import numpy as np\n",
    "import matplotlib.pyplot as plt\n",
    "import cv2\n",
    "import math"
   ]
  },
  {
   "cell_type": "code",
   "execution_count": 56,
   "metadata": {},
   "outputs": [],
   "source": [
    "def bin(image2):\n",
    "    # Dice cual es el rango de valores\n",
    "    plana=[x for y in image2 for x in y]\n",
    "    #print(f\"el valor máximo es: {max(plana)} y el mínimo es: {min(plana)}\")\n",
    "\n",
    "    # Modificando \"rango\" modificas el umbral\n",
    "    rango = -3\n",
    "    umbral = ((min(plana) + max(plana))/2) + rango\n",
    "    # print(umbral)\n",
    "\n",
    "    # Binarizacion\n",
    "    _, imgBin = cv2.threshold(image2, umbral, 255, cv2.THRESH_BINARY)\n",
    "\n",
    "    return imgBin"
   ]
  },
  {
   "cell_type": "code",
   "execution_count": 57,
   "metadata": {},
   "outputs": [],
   "source": [
    "def p1(test):\n",
    "    forma2 = np.shape(test)\n",
    "    base2 = np.zeros(forma2)\n",
    "    base3 = np.zeros(forma2)\n",
    "\n",
    "    alto, ancho = forma2\n",
    "\n",
    "    # Primer valor\n",
    "    grupo = 1\n",
    "\n",
    "    # Llenado de valores\n",
    "    for y2 in range(alto):\n",
    "        for x2 in range(ancho):\n",
    "            \n",
    "            if test[y2,x2] == 255: # Si el valor en la matriz es 255 (blanco)\n",
    "                \n",
    "                if base2[y2,x2-1] != 0: # Si el valor a la izquierda es diferente de 0, toma ese valor\n",
    "                    base2[y2,x2] = base2[y2,x2-1]\n",
    "                    #print(\"Padre: [\",y2,\"]\",\"[\",x2-1,\"]  Valor:(\",base2[y2,x2-1],\") --> Hijo:[\",y2,\"]\",\"[\",x2,\"]\")\n",
    "                \n",
    "                if base2[y2-1,x2] != 0: # Si el valor arriba es diferente de 0, toma ese valor\n",
    "                    base2[y2,x2] = base2[y2-1,x2]\n",
    "                    #print(\"Padre: [\",y2-1,\"]\",\"[\",x2,\"]  Valor:(\",base2[y2-1,x2],\") --> Hijo:[\",y2,\"]\",\"[\",x2,\"]\")\n",
    "                \n",
    "                # Si los valores tanto arriba como a la izquierda son diferentes de 0, elige el menor\n",
    "                if (base2[y2,x2-1] != 0) and (base2[y2-1,x2] != 0):\n",
    "                    \n",
    "                    if(base2[y2,x2-1] < base2[y2-1,x2]): # Si el valor a la izquierda es menor, toma ese valor\n",
    "                        base2[y2,x2] = base2[y2,x2-1]\n",
    "                        #print(\"Padre: [\",y2,\"]\",\"[\",x2-1,\"]  Valor:(\",base2[y2,x2-1],\") --> Hijo:[\",y2,\"]\",\"[\",x2,\"]\")\n",
    "                    \n",
    "                    else: # Caso opuesto (entonces el de arriba es menor)\n",
    "                        base2[y2,x2] = base2[y2-1,x2]\n",
    "                        #print(\"Padre: [\",y2-1,\"]\",\"[\",x2,\"]  Valor:(\",base2[y2-1,x2],\") --> Hijo:[\",y2,\"]\",\"[\",x2,\"]\")\n",
    "                \n",
    "                # Si el valor es 0 (y no tiene vecinos, porque primero se ve si tiene vecinos (codigo de arriba)) entonces asigna el valor de grupo nuevo\n",
    "                if base2[y2,x2] == 0:\n",
    "                    base2[y2,x2] = grupo\n",
    "                    grupo = grupo+1\n",
    "    return base2"
   ]
  },
  {
   "cell_type": "code",
   "execution_count": 58,
   "metadata": {},
   "outputs": [],
   "source": [
    "def p2(base2):\n",
    "    base3 = base2\n",
    "    \n",
    "    forma2 = np.shape(base2)\n",
    "    alto, ancho = forma2\n",
    "    \n",
    "    for y2 in range(alto):\n",
    "        for x2 in range(ancho):\n",
    "            \n",
    "            lista = []\n",
    "            \n",
    "            if base3[y2,x2] != 0:\n",
    "                \n",
    "                lista.append(base3[y2,x2])                \n",
    "                    \n",
    "                if(y2>0) and (base3[y2-1][x2] != 0):\n",
    "                    #[^] Vecino de arriba:\n",
    "                    lista.append(base3[y2-1][x2])\n",
    "                    \n",
    "                if(x2<(ancho-1)) and (base3[y2][x2+1] != 0):\n",
    "                    #[->] Vecino de la derecha\n",
    "                    lista.append(base3[y2][x2+1])\n",
    "                \n",
    "                if(y2<(alto-1)) and (base3[y2+1][x2] != 0):\n",
    "                    #[v] Vecino de abajo\n",
    "                    lista.append(base3[y2+1][x2])\n",
    "                    \n",
    "                if(x2>0) and (base3[y2][x2-1] != 0):\n",
    "                    #[<-] Vecino de la izquierda\n",
    "                    lista.append(base3[y2][x2-1])\n",
    "\n",
    "                #print(\"[\",y2,\"]\",\"[\",x2,\"]\",lista)\n",
    "                \n",
    "                #print(\"min \",min(lista))\n",
    "                \n",
    "                base3[y2,x2] = min(lista)\n",
    "    return plt.imshow(base3, cmap=\"rainbow\")"
   ]
  },
  {
   "cell_type": "code",
   "execution_count": 60,
   "metadata": {},
   "outputs": [],
   "source": [
    "def componentes(yeah):\n",
    "    return p2(p1(bin(yeah)))"
   ]
  },
  {
   "cell_type": "code",
   "execution_count": 61,
   "metadata": {},
   "outputs": [
    {
     "data": {
      "text/plain": [
       "<matplotlib.image.AxesImage at 0x188e2b22950>"
      ]
     },
     "execution_count": 61,
     "metadata": {},
     "output_type": "execute_result"
    },
    {
     "data": {
      "image/png": "[encoded data removed]",
      "text/plain": [
       "<Figure size 640x480 with 1 Axes>"
      ]
     },
     "metadata": {},
     "output_type": "display_data"
    }
   ],
   "source": [
    "hola = cv2.imread('../../IMAGES/chiquita.jpg', 0)\n",
    "\n",
    "componentes(hola)"
   ]
  }
 ],
 "metadata": {
  "kernelspec": {
   "display_name": "Python 3",
   "language": "python",
   "name": "python3"
  },
  "language_info": {
   "codemirror_mode": {
    "name": "ipython",
    "version": 3
   },
   "file_extension": ".py",
   "mimetype": "text/x-python",
   "name": "python",
   "nbconvert_exporter": "python",
   "pygments_lexer": "ipython3",
   "version": "3.11.5"
  },
  "orig_nbformat": 4
 },
 "nbformat": 4,
 "nbformat_minor": 2
}
